{
 "cells": [
  {
   "cell_type": "code",
   "execution_count": 11,
   "id": "cc25dd3b",
   "metadata": {},
   "outputs": [],
   "source": [
    "#Two lines x1 -> x2 and x3 -> x4, print True if overlapping or touching otherwise print False\n",
    "\n",
    "def is_overlapping(x1,x2,x3,x4):\n",
    "    if (x1 >= x3) and (x1 <= x4):\n",
    "        return True\n",
    "    elif (x2 >= x3) and (x2 <= x4):\n",
    "        return True\n",
    "    elif (x3 >= x1) and (x3 <= x2):\n",
    "        return True\n",
    "    elif (x4 >= x1) and (x4 <= x2):\n",
    "        return True\n",
    "    else:\n",
    "        return False"
   ]
  },
  {
   "cell_type": "code",
   "execution_count": 13,
   "id": "fba6e567",
   "metadata": {},
   "outputs": [
    {
     "data": {
      "text/plain": [
       "False"
      ]
     },
     "execution_count": 13,
     "metadata": {},
     "output_type": "execute_result"
    }
   ],
   "source": [
    "is_overlapping(1,2,4,5)"
   ]
  },
  {
   "cell_type": "code",
   "execution_count": 4,
   "id": "bd1703ca",
   "metadata": {},
   "outputs": [
    {
     "data": {
      "text/plain": [
       "True"
      ]
     },
     "execution_count": 4,
     "metadata": {},
     "output_type": "execute_result"
    }
   ],
   "source": [
    "is_overlapping(2,1,2,-5)"
   ]
  },
  {
   "cell_type": "code",
   "execution_count": null,
   "id": "b9e6a39c",
   "metadata": {},
   "outputs": [],
   "source": []
  }
 ],
 "metadata": {
  "kernelspec": {
   "display_name": "Python 3",
   "language": "python",
   "name": "python3"
  },
  "language_info": {
   "codemirror_mode": {
    "name": "ipython",
    "version": 3
   },
   "file_extension": ".py",
   "mimetype": "text/x-python",
   "name": "python",
   "nbconvert_exporter": "python",
   "pygments_lexer": "ipython3",
   "version": "3.11.0"
  }
 },
 "nbformat": 4,
 "nbformat_minor": 5
}
